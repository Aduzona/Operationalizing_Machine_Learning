{
 "cells": [
  {
   "cell_type": "markdown",
   "metadata": {},
   "source": [
    "# Project Overview\n",
    "\n",
    "In this project, you will continue to work with the [Bank Marketing dataset](https://automlsamplenotebookdata.blob.core.windows.net/automl-sample-notebook-data/bankmarketing_train.csv). You will use Azure to configure a cloud-based machine learning production model, deploy it, and consume it. You will also create, publish, and consume a pipeline. In the end, you will demonstrate all of your work by creating a README file and a screencast video."
   ]
  },
  {
   "cell_type": "markdown",
   "metadata": {},
   "source": [
    "   **Project main steps**\n",
    "   \n",
    "In this project, you will following the below steps:\n",
    "\n",
    "1.  Authentication\n",
    "2.  Automated ML Experiment\n",
    "3. Deploy the best model\n",
    "4. Enable logging\n",
    "5. Swagger Documentation\n",
    "6. Consume model endpoints\n",
    "7. Create and publish a pipeline\n",
    "8. Documentation"
   ]
  },
  {
   "cell_type": "markdown",
   "metadata": {},
   "source": [
    "## Step 5: Swagger Documentation\n",
    "\n",
    "In this step, you will consume the deployed model using Swagger.\n",
    "\n",
    "Azure provides a Swagger JSON file for deployed models. Head to the Endpoints section, and find your deployed model there, it should be the first one on the list.\n",
    "\n",
    "A few things you need to pay attention to:\n",
    "\n",
    "1. swagger.sh will download the latest Swagger container, and it will run it on port 80. If you don't have permissions for port 80 on your computer, update the script to a higher number (above 9000 is a good idea).\n",
    "\n",
    "2. serve.py will start a Python server on port 8000. This script needs to be right next to the downloaded swagger.json file. NOTE: this will not work if swagger.json is not on the same directory."
   ]
  },
  {
   "cell_type": "code",
   "execution_count": null,
   "metadata": {},
   "outputs": [],
   "source": []
  }
 ],
 "metadata": {
  "interpreter": {
   "hash": "60062bfbbdb55d7c70b884c78dba17d93f7bddb21846b67229a99cf865725014"
  },
  "kernelspec": {
   "display_name": "Python 3.7.6 ('base')",
   "language": "python",
   "name": "python3"
  },
  "language_info": {
   "name": "python",
   "version": "3.7.6"
  },
  "orig_nbformat": 4
 },
 "nbformat": 4,
 "nbformat_minor": 2
}
